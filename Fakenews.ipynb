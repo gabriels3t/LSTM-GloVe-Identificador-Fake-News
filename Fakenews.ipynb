{
  "cells": [
    {
      "cell_type": "code",
      "execution_count": 118,
      "metadata": {
        "id": "CA3fyhV6i7VY"
      },
      "outputs": [],
      "source": [
        "import pandas as pd"
      ]
    },
    {
      "cell_type": "code",
      "execution_count": null,
      "metadata": {
        "id": "IDINOz9a4pgy"
      },
      "outputs": [],
      "source": [
        "path = \"data\""
      ]
    },
    {
      "cell_type": "code",
      "execution_count": 120,
      "metadata": {
        "id": "x8CohcvL4mvc"
      },
      "outputs": [],
      "source": [
        "df_fake = pd.read_csv(path+\"/fakes.csv\")\n",
        "df_true = pd.read_csv(path+\"/true.csv\")"
      ]
    },
    {
      "cell_type": "markdown",
      "metadata": {
        "id": "BBDmXp9w8gNs"
      },
      "source": [
        " fake news (rótulo = 1) e a outra contendo apenas notícias verdadeiras (rótulo = 0)."
      ]
    },
    {
      "cell_type": "code",
      "execution_count": 121,
      "metadata": {
        "colab": {
          "base_uri": "https://localhost:8080/",
          "height": 597
        },
        "id": "-F5wn-Ik8XSd",
        "outputId": "586226af-3122-4b71-867a-de1be7e62f34"
      },
      "outputs": [
        {
          "data": {
            "application/vnd.google.colaboratory.intrinsic+json": {
              "summary": "{\n  \"name\": \"df_true\",\n  \"rows\": 2720,\n  \"fields\": [\n    {\n      \"column\": \"title\",\n      \"properties\": {\n        \"dtype\": \"string\",\n        \"num_unique_values\": 2143,\n        \"samples\": [\n          \"Sem ir ao debate da Globo, Bolsonaro repete imprecis\\u00f5es na Record e em emissora de r\\u00e1dio\",\n          \"Ant\\u00f3nio Costa: \\\"Nestes seis anos refor\\u00e7\\u00e1mos o quadro do SNS em 28 mil profissionais\\\". Confirma-se?\",\n          \"Autarca de Penafiel cancelou \\\"Baile dos Pretos\\\", tradi\\u00e7\\u00e3o de \\\"blackface\\\", e culpou \\\"puritanismos\\\"? \\u00c9 verdade\"\n        ],\n        \"semantic_type\": \"\",\n        \"description\": \"\"\n      }\n    },\n    {\n      \"column\": \"text\",\n      \"properties\": {\n        \"dtype\": \"string\",\n        \"num_unique_values\": 2717,\n        \"samples\": [\n          \"M\\u00e1rio Machado avisa que v\\u00e3o surgir grupos de \\\"extrema-direita ao estilo paramilitar\\\" se o Chega for extinto? (COM V\\u00cdDEO)\",\n          \"[A prefeitura de S\\u00e3o Paulo] tem em caixa R$ 18 bilh\\u00f5es\",\n          \"Empresas como a Glovo e Uber Eats cobram taxas de 35% aos restaurantes?\"\n        ],\n        \"semantic_type\": \"\",\n        \"description\": \"\"\n      }\n    },\n    {\n      \"column\": \"origin\",\n      \"properties\": {\n        \"dtype\": \"category\",\n        \"num_unique_values\": 321,\n        \"samples\": [\n          \"Petra Costa\",\n          \"Manuela D\\u2019\\u00c1vila\",\n          \"Samuel Moreira\"\n        ],\n        \"semantic_type\": \"\",\n        \"description\": \"\"\n      }\n    },\n    {\n      \"column\": \"url\",\n      \"properties\": {\n        \"dtype\": \"string\",\n        \"num_unique_values\": 2143,\n        \"samples\": [\n          \"https://lupa.uol.com.br/jornalismo/2018/10/05/bolsonaro-record-radios\",\n          \"https://poligrafo.sapo.pt/fact-check/antonio-costa-nestes-seis-anos-reforcamos-o-quadro-do-sns-em-28-mil-profissionais-confirma-se\",\n          \"https://poligrafo.sapo.pt/fact-check/autarca-de-penafiel-cancelou-baile-dos-pretos-tradicao-de-blackface-e-culpou-puritanismos-e-verdade\"\n        ],\n        \"semantic_type\": \"\",\n        \"description\": \"\"\n      }\n    },\n    {\n      \"column\": \"label\",\n      \"properties\": {\n        \"dtype\": \"number\",\n        \"std\": 0,\n        \"min\": 0,\n        \"max\": 0,\n        \"num_unique_values\": 1,\n        \"samples\": [\n          0\n        ],\n        \"semantic_type\": \"\",\n        \"description\": \"\"\n      }\n    },\n    {\n      \"column\": \"publisher_name\",\n      \"properties\": {\n        \"dtype\": \"category\",\n        \"num_unique_values\": 8,\n        \"samples\": [\n          \"UOL\"\n        ],\n        \"semantic_type\": \"\",\n        \"description\": \"\"\n      }\n    },\n    {\n      \"column\": \"publisher_site\",\n      \"properties\": {\n        \"dtype\": \"category\",\n        \"num_unique_values\": 7,\n        \"samples\": [\n          \"lupa.uol.com.br\"\n        ],\n        \"semantic_type\": \"\",\n        \"description\": \"\"\n      }\n    },\n    {\n      \"column\": \"date\",\n      \"properties\": {\n        \"dtype\": \"date\",\n        \"min\": \"2016-02-02 00:00:00+00:00\",\n        \"max\": \"2022-09-11 18:30:00+00:00\",\n        \"num_unique_values\": 2020,\n        \"samples\": [\n          \"2022-06-09T10:00:00Z\"\n        ],\n        \"semantic_type\": \"\",\n        \"description\": \"\"\n      }\n    }\n  ]\n}",
              "type": "dataframe",
              "variable_name": "df_true"
            },
            "text/html": [
              "\n",
              "  <div id=\"df-63077f14-651c-4cdc-abfd-1433bde2c4b6\" class=\"colab-df-container\">\n",
              "    <div>\n",
              "<style scoped>\n",
              "    .dataframe tbody tr th:only-of-type {\n",
              "        vertical-align: middle;\n",
              "    }\n",
              "\n",
              "    .dataframe tbody tr th {\n",
              "        vertical-align: top;\n",
              "    }\n",
              "\n",
              "    .dataframe thead th {\n",
              "        text-align: right;\n",
              "    }\n",
              "</style>\n",
              "<table border=\"1\" class=\"dataframe\">\n",
              "  <thead>\n",
              "    <tr style=\"text-align: right;\">\n",
              "      <th></th>\n",
              "      <th>title</th>\n",
              "      <th>text</th>\n",
              "      <th>origin</th>\n",
              "      <th>url</th>\n",
              "      <th>label</th>\n",
              "      <th>publisher_name</th>\n",
              "      <th>publisher_site</th>\n",
              "      <th>date</th>\n",
              "    </tr>\n",
              "  </thead>\n",
              "  <tbody>\n",
              "    <tr>\n",
              "      <th>0</th>\n",
              "      <td>Jovem Pan: o que é falso e o que é verdadeiro ...</td>\n",
              "      <td>As propostas de manter zerados impostos federa...</td>\n",
              "      <td>Jair Bolsonaro</td>\n",
              "      <td>https://lupa.uol.com.br/jornalismo/2022/09/06/...</td>\n",
              "      <td>0</td>\n",
              "      <td>Lupa - UOL</td>\n",
              "      <td>lupa.uol.com.br</td>\n",
              "      <td>NaN</td>\n",
              "    </tr>\n",
              "    <tr>\n",
              "      <th>1</th>\n",
              "      <td>Jovem Pan: o que é falso e o que é verdadeiro ...</td>\n",
              "      <td>Estatais dão lucro de mais de R$ 100 bilhões e...</td>\n",
              "      <td>Jair Bolsonaro</td>\n",
              "      <td>https://lupa.uol.com.br/jornalismo/2022/09/06/...</td>\n",
              "      <td>0</td>\n",
              "      <td>Lupa - UOL</td>\n",
              "      <td>lupa.uol.com.br</td>\n",
              "      <td>NaN</td>\n",
              "    </tr>\n",
              "    <tr>\n",
              "      <th>2</th>\n",
              "      <td>De cargos secretos a segurança: veja erros e a...</td>\n",
              "      <td>A água foi privatizada. A Cedae não acabou. Es...</td>\n",
              "      <td>Marcelo Freixo (PSB)</td>\n",
              "      <td>https://lupa.uol.com.br/jornalismo/2022/09/01/...</td>\n",
              "      <td>0</td>\n",
              "      <td>Lupa - UOL</td>\n",
              "      <td>lupa.uol.com.br</td>\n",
              "      <td>NaN</td>\n",
              "    </tr>\n",
              "    <tr>\n",
              "      <th>3</th>\n",
              "      <td>De cargos secretos a segurança: veja erros e a...</td>\n",
              "      <td>São quase 3 milhões de pessoas passando fome [...</td>\n",
              "      <td>Marcelo Freixo (PSB)</td>\n",
              "      <td>https://lupa.uol.com.br/jornalismo/2022/09/01/...</td>\n",
              "      <td>0</td>\n",
              "      <td>Lupa - UOL</td>\n",
              "      <td>lupa.uol.com.br</td>\n",
              "      <td>NaN</td>\n",
              "    </tr>\n",
              "    <tr>\n",
              "      <th>4</th>\n",
              "      <td>De cargos secretos a segurança: veja erros e a...</td>\n",
              "      <td>[Cláudio Castro] tem pouco mais de 20% de ótim...</td>\n",
              "      <td>Marcelo Freixo (PSB)</td>\n",
              "      <td>https://lupa.uol.com.br/jornalismo/2022/09/01/...</td>\n",
              "      <td>0</td>\n",
              "      <td>Lupa - UOL</td>\n",
              "      <td>lupa.uol.com.br</td>\n",
              "      <td>NaN</td>\n",
              "    </tr>\n",
              "    <tr>\n",
              "      <th>...</th>\n",
              "      <td>...</td>\n",
              "      <td>...</td>\n",
              "      <td>...</td>\n",
              "      <td>...</td>\n",
              "      <td>...</td>\n",
              "      <td>...</td>\n",
              "      <td>...</td>\n",
              "      <td>...</td>\n",
              "    </tr>\n",
              "    <tr>\n",
              "      <th>2715</th>\n",
              "      <td>Um cachorro foi colocado em quarentena em Hong...</td>\n",
              "      <td>Teste em cão dá positivo para o novo coronavírus</td>\n",
              "      <td>Várias fontes</td>\n",
              "      <td>https://checamos.afp.com/um-cachorro-foi-coloc...</td>\n",
              "      <td>0</td>\n",
              "      <td>AFP Checamos</td>\n",
              "      <td>checamos.afp.com</td>\n",
              "      <td>2020-02-28T00:00:00Z</td>\n",
              "    </tr>\n",
              "    <tr>\n",
              "      <th>2716</th>\n",
              "      <td>A Prefeitura de Tucumã está entregando kits co...</td>\n",
              "      <td>Está com suspeita de coronavírus leva o kit pr...</td>\n",
              "      <td>Várias fontes</td>\n",
              "      <td>https://checamos.afp.com/prefeitura-de-tucuma-...</td>\n",
              "      <td>0</td>\n",
              "      <td>AFP Checamos</td>\n",
              "      <td>checamos.afp.com</td>\n",
              "      <td>2020-05-17T00:00:00Z</td>\n",
              "    </tr>\n",
              "    <tr>\n",
              "      <th>2717</th>\n",
              "      <td>O então presidente eleito Jair Bolsonaro disse...</td>\n",
              "      <td>Bolsonaro afirmou em 2018 que o indulto de Nat...</td>\n",
              "      <td>Múltiplas fontes</td>\n",
              "      <td>https://checamos.afp.com/o-entao-presidente-el...</td>\n",
              "      <td>0</td>\n",
              "      <td>AFP Checamos</td>\n",
              "      <td>checamos.afp.com</td>\n",
              "      <td>2019-12-23T00:00:00Z</td>\n",
              "    </tr>\n",
              "    <tr>\n",
              "      <th>2718</th>\n",
              "      <td>Sim, Jair Bolsonaro declarou que a chegada de ...</td>\n",
              "      <td>Jair Bolsonaro declarou que a chegada de Hugo ...</td>\n",
              "      <td>Checamos</td>\n",
              "      <td>https://checamos.afp.com/sim-jair-bolsonaro-de...</td>\n",
              "      <td>0</td>\n",
              "      <td>AFP Checamos</td>\n",
              "      <td>checamos.afp.com</td>\n",
              "      <td>NaN</td>\n",
              "    </tr>\n",
              "    <tr>\n",
              "      <th>2719</th>\n",
              "      <td>Apontado como chefe de milícia, Adriano da Nób...</td>\n",
              "      <td>O presidente Jair Bolsonaro já elogiou o ex-po...</td>\n",
              "      <td>Múltiplas fontes</td>\n",
              "      <td>https://checamos.afp.com/apontado-como-chefe-d...</td>\n",
              "      <td>0</td>\n",
              "      <td>AFP Checamos</td>\n",
              "      <td>checamos.afp.com</td>\n",
              "      <td>2020-02-09T00:00:00Z</td>\n",
              "    </tr>\n",
              "  </tbody>\n",
              "</table>\n",
              "<p>2720 rows × 8 columns</p>\n",
              "</div>\n",
              "    <div class=\"colab-df-buttons\">\n",
              "\n",
              "  <div class=\"colab-df-container\">\n",
              "    <button class=\"colab-df-convert\" onclick=\"convertToInteractive('df-63077f14-651c-4cdc-abfd-1433bde2c4b6')\"\n",
              "            title=\"Convert this dataframe to an interactive table.\"\n",
              "            style=\"display:none;\">\n",
              "\n",
              "  <svg xmlns=\"http://www.w3.org/2000/svg\" height=\"24px\" viewBox=\"0 -960 960 960\">\n",
              "    <path d=\"M120-120v-720h720v720H120Zm60-500h600v-160H180v160Zm220 220h160v-160H400v160Zm0 220h160v-160H400v160ZM180-400h160v-160H180v160Zm440 0h160v-160H620v160ZM180-180h160v-160H180v160Zm440 0h160v-160H620v160Z\"/>\n",
              "  </svg>\n",
              "    </button>\n",
              "\n",
              "  <style>\n",
              "    .colab-df-container {\n",
              "      display:flex;\n",
              "      gap: 12px;\n",
              "    }\n",
              "\n",
              "    .colab-df-convert {\n",
              "      background-color: #E8F0FE;\n",
              "      border: none;\n",
              "      border-radius: 50%;\n",
              "      cursor: pointer;\n",
              "      display: none;\n",
              "      fill: #1967D2;\n",
              "      height: 32px;\n",
              "      padding: 0 0 0 0;\n",
              "      width: 32px;\n",
              "    }\n",
              "\n",
              "    .colab-df-convert:hover {\n",
              "      background-color: #E2EBFA;\n",
              "      box-shadow: 0px 1px 2px rgba(60, 64, 67, 0.3), 0px 1px 3px 1px rgba(60, 64, 67, 0.15);\n",
              "      fill: #174EA6;\n",
              "    }\n",
              "\n",
              "    .colab-df-buttons div {\n",
              "      margin-bottom: 4px;\n",
              "    }\n",
              "\n",
              "    [theme=dark] .colab-df-convert {\n",
              "      background-color: #3B4455;\n",
              "      fill: #D2E3FC;\n",
              "    }\n",
              "\n",
              "    [theme=dark] .colab-df-convert:hover {\n",
              "      background-color: #434B5C;\n",
              "      box-shadow: 0px 1px 3px 1px rgba(0, 0, 0, 0.15);\n",
              "      filter: drop-shadow(0px 1px 2px rgba(0, 0, 0, 0.3));\n",
              "      fill: #FFFFFF;\n",
              "    }\n",
              "  </style>\n",
              "\n",
              "    <script>\n",
              "      const buttonEl =\n",
              "        document.querySelector('#df-63077f14-651c-4cdc-abfd-1433bde2c4b6 button.colab-df-convert');\n",
              "      buttonEl.style.display =\n",
              "        google.colab.kernel.accessAllowed ? 'block' : 'none';\n",
              "\n",
              "      async function convertToInteractive(key) {\n",
              "        const element = document.querySelector('#df-63077f14-651c-4cdc-abfd-1433bde2c4b6');\n",
              "        const dataTable =\n",
              "          await google.colab.kernel.invokeFunction('convertToInteractive',\n",
              "                                                    [key], {});\n",
              "        if (!dataTable) return;\n",
              "\n",
              "        const docLinkHtml = 'Like what you see? Visit the ' +\n",
              "          '<a target=\"_blank\" href=https://colab.research.google.com/notebooks/data_table.ipynb>data table notebook</a>'\n",
              "          + ' to learn more about interactive tables.';\n",
              "        element.innerHTML = '';\n",
              "        dataTable['output_type'] = 'display_data';\n",
              "        await google.colab.output.renderOutput(dataTable, element);\n",
              "        const docLink = document.createElement('div');\n",
              "        docLink.innerHTML = docLinkHtml;\n",
              "        element.appendChild(docLink);\n",
              "      }\n",
              "    </script>\n",
              "  </div>\n",
              "\n",
              "\n",
              "<div id=\"df-a9f81c15-8e90-4e71-b8af-d016e27fb468\">\n",
              "  <button class=\"colab-df-quickchart\" onclick=\"quickchart('df-a9f81c15-8e90-4e71-b8af-d016e27fb468')\"\n",
              "            title=\"Suggest charts\"\n",
              "            style=\"display:none;\">\n",
              "\n",
              "<svg xmlns=\"http://www.w3.org/2000/svg\" height=\"24px\"viewBox=\"0 0 24 24\"\n",
              "     width=\"24px\">\n",
              "    <g>\n",
              "        <path d=\"M19 3H5c-1.1 0-2 .9-2 2v14c0 1.1.9 2 2 2h14c1.1 0 2-.9 2-2V5c0-1.1-.9-2-2-2zM9 17H7v-7h2v7zm4 0h-2V7h2v10zm4 0h-2v-4h2v4z\"/>\n",
              "    </g>\n",
              "</svg>\n",
              "  </button>\n",
              "\n",
              "<style>\n",
              "  .colab-df-quickchart {\n",
              "      --bg-color: #E8F0FE;\n",
              "      --fill-color: #1967D2;\n",
              "      --hover-bg-color: #E2EBFA;\n",
              "      --hover-fill-color: #174EA6;\n",
              "      --disabled-fill-color: #AAA;\n",
              "      --disabled-bg-color: #DDD;\n",
              "  }\n",
              "\n",
              "  [theme=dark] .colab-df-quickchart {\n",
              "      --bg-color: #3B4455;\n",
              "      --fill-color: #D2E3FC;\n",
              "      --hover-bg-color: #434B5C;\n",
              "      --hover-fill-color: #FFFFFF;\n",
              "      --disabled-bg-color: #3B4455;\n",
              "      --disabled-fill-color: #666;\n",
              "  }\n",
              "\n",
              "  .colab-df-quickchart {\n",
              "    background-color: var(--bg-color);\n",
              "    border: none;\n",
              "    border-radius: 50%;\n",
              "    cursor: pointer;\n",
              "    display: none;\n",
              "    fill: var(--fill-color);\n",
              "    height: 32px;\n",
              "    padding: 0;\n",
              "    width: 32px;\n",
              "  }\n",
              "\n",
              "  .colab-df-quickchart:hover {\n",
              "    background-color: var(--hover-bg-color);\n",
              "    box-shadow: 0 1px 2px rgba(60, 64, 67, 0.3), 0 1px 3px 1px rgba(60, 64, 67, 0.15);\n",
              "    fill: var(--button-hover-fill-color);\n",
              "  }\n",
              "\n",
              "  .colab-df-quickchart-complete:disabled,\n",
              "  .colab-df-quickchart-complete:disabled:hover {\n",
              "    background-color: var(--disabled-bg-color);\n",
              "    fill: var(--disabled-fill-color);\n",
              "    box-shadow: none;\n",
              "  }\n",
              "\n",
              "  .colab-df-spinner {\n",
              "    border: 2px solid var(--fill-color);\n",
              "    border-color: transparent;\n",
              "    border-bottom-color: var(--fill-color);\n",
              "    animation:\n",
              "      spin 1s steps(1) infinite;\n",
              "  }\n",
              "\n",
              "  @keyframes spin {\n",
              "    0% {\n",
              "      border-color: transparent;\n",
              "      border-bottom-color: var(--fill-color);\n",
              "      border-left-color: var(--fill-color);\n",
              "    }\n",
              "    20% {\n",
              "      border-color: transparent;\n",
              "      border-left-color: var(--fill-color);\n",
              "      border-top-color: var(--fill-color);\n",
              "    }\n",
              "    30% {\n",
              "      border-color: transparent;\n",
              "      border-left-color: var(--fill-color);\n",
              "      border-top-color: var(--fill-color);\n",
              "      border-right-color: var(--fill-color);\n",
              "    }\n",
              "    40% {\n",
              "      border-color: transparent;\n",
              "      border-right-color: var(--fill-color);\n",
              "      border-top-color: var(--fill-color);\n",
              "    }\n",
              "    60% {\n",
              "      border-color: transparent;\n",
              "      border-right-color: var(--fill-color);\n",
              "    }\n",
              "    80% {\n",
              "      border-color: transparent;\n",
              "      border-right-color: var(--fill-color);\n",
              "      border-bottom-color: var(--fill-color);\n",
              "    }\n",
              "    90% {\n",
              "      border-color: transparent;\n",
              "      border-bottom-color: var(--fill-color);\n",
              "    }\n",
              "  }\n",
              "</style>\n",
              "\n",
              "  <script>\n",
              "    async function quickchart(key) {\n",
              "      const quickchartButtonEl =\n",
              "        document.querySelector('#' + key + ' button');\n",
              "      quickchartButtonEl.disabled = true;  // To prevent multiple clicks.\n",
              "      quickchartButtonEl.classList.add('colab-df-spinner');\n",
              "      try {\n",
              "        const charts = await google.colab.kernel.invokeFunction(\n",
              "            'suggestCharts', [key], {});\n",
              "      } catch (error) {\n",
              "        console.error('Error during call to suggestCharts:', error);\n",
              "      }\n",
              "      quickchartButtonEl.classList.remove('colab-df-spinner');\n",
              "      quickchartButtonEl.classList.add('colab-df-quickchart-complete');\n",
              "    }\n",
              "    (() => {\n",
              "      let quickchartButtonEl =\n",
              "        document.querySelector('#df-a9f81c15-8e90-4e71-b8af-d016e27fb468 button');\n",
              "      quickchartButtonEl.style.display =\n",
              "        google.colab.kernel.accessAllowed ? 'block' : 'none';\n",
              "    })();\n",
              "  </script>\n",
              "</div>\n",
              "\n",
              "  <div id=\"id_ba143f44-7e96-4b28-ad7b-385e056a5201\">\n",
              "    <style>\n",
              "      .colab-df-generate {\n",
              "        background-color: #E8F0FE;\n",
              "        border: none;\n",
              "        border-radius: 50%;\n",
              "        cursor: pointer;\n",
              "        display: none;\n",
              "        fill: #1967D2;\n",
              "        height: 32px;\n",
              "        padding: 0 0 0 0;\n",
              "        width: 32px;\n",
              "      }\n",
              "\n",
              "      .colab-df-generate:hover {\n",
              "        background-color: #E2EBFA;\n",
              "        box-shadow: 0px 1px 2px rgba(60, 64, 67, 0.3), 0px 1px 3px 1px rgba(60, 64, 67, 0.15);\n",
              "        fill: #174EA6;\n",
              "      }\n",
              "\n",
              "      [theme=dark] .colab-df-generate {\n",
              "        background-color: #3B4455;\n",
              "        fill: #D2E3FC;\n",
              "      }\n",
              "\n",
              "      [theme=dark] .colab-df-generate:hover {\n",
              "        background-color: #434B5C;\n",
              "        box-shadow: 0px 1px 3px 1px rgba(0, 0, 0, 0.15);\n",
              "        filter: drop-shadow(0px 1px 2px rgba(0, 0, 0, 0.3));\n",
              "        fill: #FFFFFF;\n",
              "      }\n",
              "    </style>\n",
              "    <button class=\"colab-df-generate\" onclick=\"generateWithVariable('df_true')\"\n",
              "            title=\"Generate code using this dataframe.\"\n",
              "            style=\"display:none;\">\n",
              "\n",
              "  <svg xmlns=\"http://www.w3.org/2000/svg\" height=\"24px\"viewBox=\"0 0 24 24\"\n",
              "       width=\"24px\">\n",
              "    <path d=\"M7,19H8.4L18.45,9,17,7.55,7,17.6ZM5,21V16.75L18.45,3.32a2,2,0,0,1,2.83,0l1.4,1.43a1.91,1.91,0,0,1,.58,1.4,1.91,1.91,0,0,1-.58,1.4L9.25,21ZM18.45,9,17,7.55Zm-12,3A5.31,5.31,0,0,0,4.9,8.1,5.31,5.31,0,0,0,1,6.5,5.31,5.31,0,0,0,4.9,4.9,5.31,5.31,0,0,0,6.5,1,5.31,5.31,0,0,0,8.1,4.9,5.31,5.31,0,0,0,12,6.5,5.46,5.46,0,0,0,6.5,12Z\"/>\n",
              "  </svg>\n",
              "    </button>\n",
              "    <script>\n",
              "      (() => {\n",
              "      const buttonEl =\n",
              "        document.querySelector('#id_ba143f44-7e96-4b28-ad7b-385e056a5201 button.colab-df-generate');\n",
              "      buttonEl.style.display =\n",
              "        google.colab.kernel.accessAllowed ? 'block' : 'none';\n",
              "\n",
              "      buttonEl.onclick = () => {\n",
              "        google.colab.notebook.generateWithVariable('df_true');\n",
              "      }\n",
              "      })();\n",
              "    </script>\n",
              "  </div>\n",
              "\n",
              "    </div>\n",
              "  </div>\n"
            ],
            "text/plain": [
              "                                                  title  \\\n",
              "0     Jovem Pan: o que é falso e o que é verdadeiro ...   \n",
              "1     Jovem Pan: o que é falso e o que é verdadeiro ...   \n",
              "2     De cargos secretos a segurança: veja erros e a...   \n",
              "3     De cargos secretos a segurança: veja erros e a...   \n",
              "4     De cargos secretos a segurança: veja erros e a...   \n",
              "...                                                 ...   \n",
              "2715  Um cachorro foi colocado em quarentena em Hong...   \n",
              "2716  A Prefeitura de Tucumã está entregando kits co...   \n",
              "2717  O então presidente eleito Jair Bolsonaro disse...   \n",
              "2718  Sim, Jair Bolsonaro declarou que a chegada de ...   \n",
              "2719  Apontado como chefe de milícia, Adriano da Nób...   \n",
              "\n",
              "                                                   text                origin  \\\n",
              "0     As propostas de manter zerados impostos federa...        Jair Bolsonaro   \n",
              "1     Estatais dão lucro de mais de R$ 100 bilhões e...        Jair Bolsonaro   \n",
              "2     A água foi privatizada. A Cedae não acabou. Es...  Marcelo Freixo (PSB)   \n",
              "3     São quase 3 milhões de pessoas passando fome [...  Marcelo Freixo (PSB)   \n",
              "4     [Cláudio Castro] tem pouco mais de 20% de ótim...  Marcelo Freixo (PSB)   \n",
              "...                                                 ...                   ...   \n",
              "2715   Teste em cão dá positivo para o novo coronavírus         Várias fontes   \n",
              "2716  Está com suspeita de coronavírus leva o kit pr...         Várias fontes   \n",
              "2717  Bolsonaro afirmou em 2018 que o indulto de Nat...      Múltiplas fontes   \n",
              "2718  Jair Bolsonaro declarou que a chegada de Hugo ...              Checamos   \n",
              "2719  O presidente Jair Bolsonaro já elogiou o ex-po...      Múltiplas fontes   \n",
              "\n",
              "                                                    url  label publisher_name  \\\n",
              "0     https://lupa.uol.com.br/jornalismo/2022/09/06/...      0     Lupa - UOL   \n",
              "1     https://lupa.uol.com.br/jornalismo/2022/09/06/...      0     Lupa - UOL   \n",
              "2     https://lupa.uol.com.br/jornalismo/2022/09/01/...      0     Lupa - UOL   \n",
              "3     https://lupa.uol.com.br/jornalismo/2022/09/01/...      0     Lupa - UOL   \n",
              "4     https://lupa.uol.com.br/jornalismo/2022/09/01/...      0     Lupa - UOL   \n",
              "...                                                 ...    ...            ...   \n",
              "2715  https://checamos.afp.com/um-cachorro-foi-coloc...      0   AFP Checamos   \n",
              "2716  https://checamos.afp.com/prefeitura-de-tucuma-...      0   AFP Checamos   \n",
              "2717  https://checamos.afp.com/o-entao-presidente-el...      0   AFP Checamos   \n",
              "2718  https://checamos.afp.com/sim-jair-bolsonaro-de...      0   AFP Checamos   \n",
              "2719  https://checamos.afp.com/apontado-como-chefe-d...      0   AFP Checamos   \n",
              "\n",
              "        publisher_site                  date  \n",
              "0      lupa.uol.com.br                   NaN  \n",
              "1      lupa.uol.com.br                   NaN  \n",
              "2      lupa.uol.com.br                   NaN  \n",
              "3      lupa.uol.com.br                   NaN  \n",
              "4      lupa.uol.com.br                   NaN  \n",
              "...                ...                   ...  \n",
              "2715  checamos.afp.com  2020-02-28T00:00:00Z  \n",
              "2716  checamos.afp.com  2020-05-17T00:00:00Z  \n",
              "2717  checamos.afp.com  2019-12-23T00:00:00Z  \n",
              "2718  checamos.afp.com                   NaN  \n",
              "2719  checamos.afp.com  2020-02-09T00:00:00Z  \n",
              "\n",
              "[2720 rows x 8 columns]"
            ]
          },
          "execution_count": 121,
          "metadata": {},
          "output_type": "execute_result"
        }
      ],
      "source": [
        "df_true"
      ]
    },
    {
      "cell_type": "code",
      "execution_count": 122,
      "metadata": {
        "id": "ygHxTaABCh4K"
      },
      "outputs": [],
      "source": [
        "df_fake[\"data\"] = df_fake[\"title\"] + \" \" + df_fake[\"text\"]\n",
        "df_true[\"data\"] = df_true[\"title\"] + \" \" + df_true[\"text\"]\n",
        "df_fake_limpa = df_fake.drop(df_fake.columns[[0,1,2,3, 5,6, 7]], axis=1)\n",
        "df_true_limpa = df_true.drop(df_true.columns[[0,1,2,3,5, 6, 7]], axis=1)"
      ]
    },
    {
      "cell_type": "code",
      "execution_count": 123,
      "metadata": {
        "id": "apKynbCMC0dq"
      },
      "outputs": [],
      "source": [
        " # Aumentando a amostra de noticias reais\n",
        "df_true_limpa = pd.concat([df_true_limpa] * 9, ignore_index=True)"
      ]
    },
    {
      "cell_type": "code",
      "execution_count": 124,
      "metadata": {
        "colab": {
          "base_uri": "https://localhost:8080/",
          "height": 424
        },
        "id": "20_p4F_PFYLi",
        "outputId": "439701d4-2d88-4cca-e150-c3dda7f00bf8"
      },
      "outputs": [
        {
          "data": {
            "application/vnd.google.colaboratory.intrinsic+json": {
              "summary": "{\n  \"name\": \"df_fake_limpa\",\n  \"rows\": 20478,\n  \"fields\": [\n    {\n      \"column\": \"label\",\n      \"properties\": {\n        \"dtype\": \"number\",\n        \"std\": 0,\n        \"min\": 1,\n        \"max\": 1,\n        \"num_unique_values\": 1,\n        \"samples\": [\n          1\n        ],\n        \"semantic_type\": \"\",\n        \"description\": \"\"\n      }\n    },\n    {\n      \"column\": \"data\",\n      \"properties\": {\n        \"dtype\": \"string\",\n        \"num_unique_values\": 20468,\n        \"samples\": [\n          \"A volunt\\u00e1ria que contou aos meios de comunica\\u00e7\\u00e3o as poss\\u00edveis rea\\u00e7\\u00f5es \\u00e0 vacina faz parte dos testes de Oxford A cobaia do Doria que tomou a vacina chinesa contra o novo coronav\\u00edrus.\"\n        ],\n        \"semantic_type\": \"\",\n        \"description\": \"\"\n      }\n    }\n  ]\n}",
              "type": "dataframe",
              "variable_name": "df_fake_limpa"
            },
            "text/html": [
              "\n",
              "  <div id=\"df-ea1fb0c6-005b-4abf-ad22-3ececb9f498d\" class=\"colab-df-container\">\n",
              "    <div>\n",
              "<style scoped>\n",
              "    .dataframe tbody tr th:only-of-type {\n",
              "        vertical-align: middle;\n",
              "    }\n",
              "\n",
              "    .dataframe tbody tr th {\n",
              "        vertical-align: top;\n",
              "    }\n",
              "\n",
              "    .dataframe thead th {\n",
              "        text-align: right;\n",
              "    }\n",
              "</style>\n",
              "<table border=\"1\" class=\"dataframe\">\n",
              "  <thead>\n",
              "    <tr style=\"text-align: right;\">\n",
              "      <th></th>\n",
              "      <th>label</th>\n",
              "      <th>data</th>\n",
              "    </tr>\n",
              "  </thead>\n",
              "  <tbody>\n",
              "    <tr>\n",
              "      <th>0</th>\n",
              "      <td>1</td>\n",
              "      <td>Vídeo com vaias a Nando Reis teve áudio manipu...</td>\n",
              "    </tr>\n",
              "    <tr>\n",
              "      <th>1</th>\n",
              "      <td>1</td>\n",
              "      <td>Documentos confirmam uso de dinheiro vivo na c...</td>\n",
              "    </tr>\n",
              "    <tr>\n",
              "      <th>2</th>\n",
              "      <td>1</td>\n",
              "      <td>G1 não publicou notícia de que rainha Elizabet...</td>\n",
              "    </tr>\n",
              "    <tr>\n",
              "      <th>3</th>\n",
              "      <td>1</td>\n",
              "      <td>TSE não proibiu governo de tomar medidas para ...</td>\n",
              "    </tr>\n",
              "    <tr>\n",
              "      <th>4</th>\n",
              "      <td>1</td>\n",
              "      <td>É falso que órgão de saúde dos EUA passou a re...</td>\n",
              "    </tr>\n",
              "    <tr>\n",
              "      <th>...</th>\n",
              "      <td>...</td>\n",
              "      <td>...</td>\n",
              "    </tr>\n",
              "    <tr>\n",
              "      <th>20473</th>\n",
              "      <td>1</td>\n",
              "      <td>Paulo Guedes gastou mesmo R$ 120 mil com Viagr...</td>\n",
              "    </tr>\n",
              "    <tr>\n",
              "      <th>20474</th>\n",
              "      <td>1</td>\n",
              "      <td>A Força Aérea Brasileira produziu 100 mil metr...</td>\n",
              "    </tr>\n",
              "    <tr>\n",
              "      <th>20475</th>\n",
              "      <td>1</td>\n",
              "      <td>Cuba adotou com sucesso a cloroquina no tratam...</td>\n",
              "    </tr>\n",
              "    <tr>\n",
              "      <th>20476</th>\n",
              "      <td>1</td>\n",
              "      <td>A Cinderela usava sapatos de pele de esquilos ...</td>\n",
              "    </tr>\n",
              "    <tr>\n",
              "      <th>20477</th>\n",
              "      <td>1</td>\n",
              "      <td>É verdade que 2% da arrecadação dos veículos d...</td>\n",
              "    </tr>\n",
              "  </tbody>\n",
              "</table>\n",
              "<p>20478 rows × 2 columns</p>\n",
              "</div>\n",
              "    <div class=\"colab-df-buttons\">\n",
              "\n",
              "  <div class=\"colab-df-container\">\n",
              "    <button class=\"colab-df-convert\" onclick=\"convertToInteractive('df-ea1fb0c6-005b-4abf-ad22-3ececb9f498d')\"\n",
              "            title=\"Convert this dataframe to an interactive table.\"\n",
              "            style=\"display:none;\">\n",
              "\n",
              "  <svg xmlns=\"http://www.w3.org/2000/svg\" height=\"24px\" viewBox=\"0 -960 960 960\">\n",
              "    <path d=\"M120-120v-720h720v720H120Zm60-500h600v-160H180v160Zm220 220h160v-160H400v160Zm0 220h160v-160H400v160ZM180-400h160v-160H180v160Zm440 0h160v-160H620v160ZM180-180h160v-160H180v160Zm440 0h160v-160H620v160Z\"/>\n",
              "  </svg>\n",
              "    </button>\n",
              "\n",
              "  <style>\n",
              "    .colab-df-container {\n",
              "      display:flex;\n",
              "      gap: 12px;\n",
              "    }\n",
              "\n",
              "    .colab-df-convert {\n",
              "      background-color: #E8F0FE;\n",
              "      border: none;\n",
              "      border-radius: 50%;\n",
              "      cursor: pointer;\n",
              "      display: none;\n",
              "      fill: #1967D2;\n",
              "      height: 32px;\n",
              "      padding: 0 0 0 0;\n",
              "      width: 32px;\n",
              "    }\n",
              "\n",
              "    .colab-df-convert:hover {\n",
              "      background-color: #E2EBFA;\n",
              "      box-shadow: 0px 1px 2px rgba(60, 64, 67, 0.3), 0px 1px 3px 1px rgba(60, 64, 67, 0.15);\n",
              "      fill: #174EA6;\n",
              "    }\n",
              "\n",
              "    .colab-df-buttons div {\n",
              "      margin-bottom: 4px;\n",
              "    }\n",
              "\n",
              "    [theme=dark] .colab-df-convert {\n",
              "      background-color: #3B4455;\n",
              "      fill: #D2E3FC;\n",
              "    }\n",
              "\n",
              "    [theme=dark] .colab-df-convert:hover {\n",
              "      background-color: #434B5C;\n",
              "      box-shadow: 0px 1px 3px 1px rgba(0, 0, 0, 0.15);\n",
              "      filter: drop-shadow(0px 1px 2px rgba(0, 0, 0, 0.3));\n",
              "      fill: #FFFFFF;\n",
              "    }\n",
              "  </style>\n",
              "\n",
              "    <script>\n",
              "      const buttonEl =\n",
              "        document.querySelector('#df-ea1fb0c6-005b-4abf-ad22-3ececb9f498d button.colab-df-convert');\n",
              "      buttonEl.style.display =\n",
              "        google.colab.kernel.accessAllowed ? 'block' : 'none';\n",
              "\n",
              "      async function convertToInteractive(key) {\n",
              "        const element = document.querySelector('#df-ea1fb0c6-005b-4abf-ad22-3ececb9f498d');\n",
              "        const dataTable =\n",
              "          await google.colab.kernel.invokeFunction('convertToInteractive',\n",
              "                                                    [key], {});\n",
              "        if (!dataTable) return;\n",
              "\n",
              "        const docLinkHtml = 'Like what you see? Visit the ' +\n",
              "          '<a target=\"_blank\" href=https://colab.research.google.com/notebooks/data_table.ipynb>data table notebook</a>'\n",
              "          + ' to learn more about interactive tables.';\n",
              "        element.innerHTML = '';\n",
              "        dataTable['output_type'] = 'display_data';\n",
              "        await google.colab.output.renderOutput(dataTable, element);\n",
              "        const docLink = document.createElement('div');\n",
              "        docLink.innerHTML = docLinkHtml;\n",
              "        element.appendChild(docLink);\n",
              "      }\n",
              "    </script>\n",
              "  </div>\n",
              "\n",
              "\n",
              "<div id=\"df-4f3b4cf7-2acf-4a5e-a85e-818e65e5bd60\">\n",
              "  <button class=\"colab-df-quickchart\" onclick=\"quickchart('df-4f3b4cf7-2acf-4a5e-a85e-818e65e5bd60')\"\n",
              "            title=\"Suggest charts\"\n",
              "            style=\"display:none;\">\n",
              "\n",
              "<svg xmlns=\"http://www.w3.org/2000/svg\" height=\"24px\"viewBox=\"0 0 24 24\"\n",
              "     width=\"24px\">\n",
              "    <g>\n",
              "        <path d=\"M19 3H5c-1.1 0-2 .9-2 2v14c0 1.1.9 2 2 2h14c1.1 0 2-.9 2-2V5c0-1.1-.9-2-2-2zM9 17H7v-7h2v7zm4 0h-2V7h2v10zm4 0h-2v-4h2v4z\"/>\n",
              "    </g>\n",
              "</svg>\n",
              "  </button>\n",
              "\n",
              "<style>\n",
              "  .colab-df-quickchart {\n",
              "      --bg-color: #E8F0FE;\n",
              "      --fill-color: #1967D2;\n",
              "      --hover-bg-color: #E2EBFA;\n",
              "      --hover-fill-color: #174EA6;\n",
              "      --disabled-fill-color: #AAA;\n",
              "      --disabled-bg-color: #DDD;\n",
              "  }\n",
              "\n",
              "  [theme=dark] .colab-df-quickchart {\n",
              "      --bg-color: #3B4455;\n",
              "      --fill-color: #D2E3FC;\n",
              "      --hover-bg-color: #434B5C;\n",
              "      --hover-fill-color: #FFFFFF;\n",
              "      --disabled-bg-color: #3B4455;\n",
              "      --disabled-fill-color: #666;\n",
              "  }\n",
              "\n",
              "  .colab-df-quickchart {\n",
              "    background-color: var(--bg-color);\n",
              "    border: none;\n",
              "    border-radius: 50%;\n",
              "    cursor: pointer;\n",
              "    display: none;\n",
              "    fill: var(--fill-color);\n",
              "    height: 32px;\n",
              "    padding: 0;\n",
              "    width: 32px;\n",
              "  }\n",
              "\n",
              "  .colab-df-quickchart:hover {\n",
              "    background-color: var(--hover-bg-color);\n",
              "    box-shadow: 0 1px 2px rgba(60, 64, 67, 0.3), 0 1px 3px 1px rgba(60, 64, 67, 0.15);\n",
              "    fill: var(--button-hover-fill-color);\n",
              "  }\n",
              "\n",
              "  .colab-df-quickchart-complete:disabled,\n",
              "  .colab-df-quickchart-complete:disabled:hover {\n",
              "    background-color: var(--disabled-bg-color);\n",
              "    fill: var(--disabled-fill-color);\n",
              "    box-shadow: none;\n",
              "  }\n",
              "\n",
              "  .colab-df-spinner {\n",
              "    border: 2px solid var(--fill-color);\n",
              "    border-color: transparent;\n",
              "    border-bottom-color: var(--fill-color);\n",
              "    animation:\n",
              "      spin 1s steps(1) infinite;\n",
              "  }\n",
              "\n",
              "  @keyframes spin {\n",
              "    0% {\n",
              "      border-color: transparent;\n",
              "      border-bottom-color: var(--fill-color);\n",
              "      border-left-color: var(--fill-color);\n",
              "    }\n",
              "    20% {\n",
              "      border-color: transparent;\n",
              "      border-left-color: var(--fill-color);\n",
              "      border-top-color: var(--fill-color);\n",
              "    }\n",
              "    30% {\n",
              "      border-color: transparent;\n",
              "      border-left-color: var(--fill-color);\n",
              "      border-top-color: var(--fill-color);\n",
              "      border-right-color: var(--fill-color);\n",
              "    }\n",
              "    40% {\n",
              "      border-color: transparent;\n",
              "      border-right-color: var(--fill-color);\n",
              "      border-top-color: var(--fill-color);\n",
              "    }\n",
              "    60% {\n",
              "      border-color: transparent;\n",
              "      border-right-color: var(--fill-color);\n",
              "    }\n",
              "    80% {\n",
              "      border-color: transparent;\n",
              "      border-right-color: var(--fill-color);\n",
              "      border-bottom-color: var(--fill-color);\n",
              "    }\n",
              "    90% {\n",
              "      border-color: transparent;\n",
              "      border-bottom-color: var(--fill-color);\n",
              "    }\n",
              "  }\n",
              "</style>\n",
              "\n",
              "  <script>\n",
              "    async function quickchart(key) {\n",
              "      const quickchartButtonEl =\n",
              "        document.querySelector('#' + key + ' button');\n",
              "      quickchartButtonEl.disabled = true;  // To prevent multiple clicks.\n",
              "      quickchartButtonEl.classList.add('colab-df-spinner');\n",
              "      try {\n",
              "        const charts = await google.colab.kernel.invokeFunction(\n",
              "            'suggestCharts', [key], {});\n",
              "      } catch (error) {\n",
              "        console.error('Error during call to suggestCharts:', error);\n",
              "      }\n",
              "      quickchartButtonEl.classList.remove('colab-df-spinner');\n",
              "      quickchartButtonEl.classList.add('colab-df-quickchart-complete');\n",
              "    }\n",
              "    (() => {\n",
              "      let quickchartButtonEl =\n",
              "        document.querySelector('#df-4f3b4cf7-2acf-4a5e-a85e-818e65e5bd60 button');\n",
              "      quickchartButtonEl.style.display =\n",
              "        google.colab.kernel.accessAllowed ? 'block' : 'none';\n",
              "    })();\n",
              "  </script>\n",
              "</div>\n",
              "\n",
              "  <div id=\"id_fee0863f-ae29-4586-9e4e-057e972b8a65\">\n",
              "    <style>\n",
              "      .colab-df-generate {\n",
              "        background-color: #E8F0FE;\n",
              "        border: none;\n",
              "        border-radius: 50%;\n",
              "        cursor: pointer;\n",
              "        display: none;\n",
              "        fill: #1967D2;\n",
              "        height: 32px;\n",
              "        padding: 0 0 0 0;\n",
              "        width: 32px;\n",
              "      }\n",
              "\n",
              "      .colab-df-generate:hover {\n",
              "        background-color: #E2EBFA;\n",
              "        box-shadow: 0px 1px 2px rgba(60, 64, 67, 0.3), 0px 1px 3px 1px rgba(60, 64, 67, 0.15);\n",
              "        fill: #174EA6;\n",
              "      }\n",
              "\n",
              "      [theme=dark] .colab-df-generate {\n",
              "        background-color: #3B4455;\n",
              "        fill: #D2E3FC;\n",
              "      }\n",
              "\n",
              "      [theme=dark] .colab-df-generate:hover {\n",
              "        background-color: #434B5C;\n",
              "        box-shadow: 0px 1px 3px 1px rgba(0, 0, 0, 0.15);\n",
              "        filter: drop-shadow(0px 1px 2px rgba(0, 0, 0, 0.3));\n",
              "        fill: #FFFFFF;\n",
              "      }\n",
              "    </style>\n",
              "    <button class=\"colab-df-generate\" onclick=\"generateWithVariable('df_fake_limpa')\"\n",
              "            title=\"Generate code using this dataframe.\"\n",
              "            style=\"display:none;\">\n",
              "\n",
              "  <svg xmlns=\"http://www.w3.org/2000/svg\" height=\"24px\"viewBox=\"0 0 24 24\"\n",
              "       width=\"24px\">\n",
              "    <path d=\"M7,19H8.4L18.45,9,17,7.55,7,17.6ZM5,21V16.75L18.45,3.32a2,2,0,0,1,2.83,0l1.4,1.43a1.91,1.91,0,0,1,.58,1.4,1.91,1.91,0,0,1-.58,1.4L9.25,21ZM18.45,9,17,7.55Zm-12,3A5.31,5.31,0,0,0,4.9,8.1,5.31,5.31,0,0,0,1,6.5,5.31,5.31,0,0,0,4.9,4.9,5.31,5.31,0,0,0,6.5,1,5.31,5.31,0,0,0,8.1,4.9,5.31,5.31,0,0,0,12,6.5,5.46,5.46,0,0,0,6.5,12Z\"/>\n",
              "  </svg>\n",
              "    </button>\n",
              "    <script>\n",
              "      (() => {\n",
              "      const buttonEl =\n",
              "        document.querySelector('#id_fee0863f-ae29-4586-9e4e-057e972b8a65 button.colab-df-generate');\n",
              "      buttonEl.style.display =\n",
              "        google.colab.kernel.accessAllowed ? 'block' : 'none';\n",
              "\n",
              "      buttonEl.onclick = () => {\n",
              "        google.colab.notebook.generateWithVariable('df_fake_limpa');\n",
              "      }\n",
              "      })();\n",
              "    </script>\n",
              "  </div>\n",
              "\n",
              "    </div>\n",
              "  </div>\n"
            ],
            "text/plain": [
              "       label                                               data\n",
              "0          1  Vídeo com vaias a Nando Reis teve áudio manipu...\n",
              "1          1  Documentos confirmam uso de dinheiro vivo na c...\n",
              "2          1  G1 não publicou notícia de que rainha Elizabet...\n",
              "3          1  TSE não proibiu governo de tomar medidas para ...\n",
              "4          1  É falso que órgão de saúde dos EUA passou a re...\n",
              "...      ...                                                ...\n",
              "20473      1  Paulo Guedes gastou mesmo R$ 120 mil com Viagr...\n",
              "20474      1  A Força Aérea Brasileira produziu 100 mil metr...\n",
              "20475      1  Cuba adotou com sucesso a cloroquina no tratam...\n",
              "20476      1  A Cinderela usava sapatos de pele de esquilos ...\n",
              "20477      1  É verdade que 2% da arrecadação dos veículos d...\n",
              "\n",
              "[20478 rows x 2 columns]"
            ]
          },
          "execution_count": 124,
          "metadata": {},
          "output_type": "execute_result"
        }
      ],
      "source": [
        "df_fake_limpa"
      ]
    },
    {
      "cell_type": "markdown",
      "metadata": {
        "id": "ZqyD7xP0QeLJ"
      },
      "source": [
        "# Pre processamento"
      ]
    },
    {
      "cell_type": "code",
      "execution_count": 125,
      "metadata": {
        "id": "BxDAJi90d8AV"
      },
      "outputs": [],
      "source": [
        "df_news = pd.concat([df_fake_limpa, df_true_limpa])"
      ]
    },
    {
      "cell_type": "code",
      "execution_count": 126,
      "metadata": {
        "colab": {
          "base_uri": "https://localhost:8080/"
        },
        "id": "8uiozkwmRKMg",
        "outputId": "399da627-5532-4880-99c2-3d4391f36bd0"
      },
      "outputs": [
        {
          "name": "stdout",
          "output_type": "stream",
          "text": [
            "Collecting pt-core-news-lg==3.8.0\n",
            "  Downloading https://github.com/explosion/spacy-models/releases/download/pt_core_news_lg-3.8.0/pt_core_news_lg-3.8.0-py3-none-any.whl (568.2 MB)\n",
            "\u001b[2K     \u001b[90m━━━━━━━━━━━━━━━━━━━━━━━━━━━━━━━━━━━━━━━━\u001b[0m \u001b[32m568.2/568.2 MB\u001b[0m \u001b[31m3.3 MB/s\u001b[0m eta \u001b[36m0:00:00\u001b[0m\n",
            "\u001b[?25h\u001b[38;5;2m✔ Download and installation successful\u001b[0m\n",
            "You can now load the package via spacy.load('pt_core_news_lg')\n",
            "\u001b[38;5;3m⚠ Restart to reload dependencies\u001b[0m\n",
            "If you are in a Jupyter or Colab notebook, you may need to restart Python in\n",
            "order to load all the package's dependencies. You can do this by selecting the\n",
            "'Restart kernel' or 'Restart runtime' option.\n"
          ]
        }
      ],
      "source": [
        "# Baixar o modelo de linguagem 'pt_core_news_lg' para o spaCy\n",
        "!python -m spacy download pt_core_news_lg\n"
      ]
    },
    {
      "cell_type": "code",
      "execution_count": 127,
      "metadata": {
        "id": "K0J5-z3yQt4D"
      },
      "outputs": [],
      "source": [
        "import string\n",
        "import spacy\n",
        "import unicodedata\n",
        "from tqdm import tqdm\n",
        "import pandas as pd\n",
        "import numpy as np\n",
        "\n",
        "# Habilita o suporte do tqdm para métodos de progressão do pandas (como progress_apply)\n",
        "# Com isso, é possível ver barras de progresso em operções feitas no Pandas\n",
        "tqdm.pandas()\n"
      ]
    },
    {
      "cell_type": "code",
      "execution_count": 128,
      "metadata": {
        "id": "iQHskPtMQgLu"
      },
      "outputs": [],
      "source": [
        "\n",
        "# Carrega o modelo de linguagem 'pt_core_news_lg' do spaCy para processamento de texto em português\n",
        "# Desabilita os componentes 'parser' e 'ner', já que não são necessários para a lematização\n",
        "spacy_nlp_model = spacy.load(\"pt_core_news_lg\", disable=[\"parser\", \"ner\"])\n",
        "\n",
        "def preprocess_data(df, text_column):\n",
        "\n",
        "\n",
        "    # Cria uma tabela de tradução que mapeia cada caractere de pontuação do módulo `string.punctuation`\n",
        "    # para `None` (ou seja, remove-os do texto).\n",
        "    print(\"Removendo pontuação...\")\n",
        "    translator = str.maketrans('', '', string.punctuation) # Só usamos o terceiro parâmetro, que mapeia ocorrências de string.punctuation para None\n",
        "    df[text_column] = df[text_column].progress_apply(lambda x: x.translate(translator))\n",
        "\n",
        "    print(\"Removendo números...\")\n",
        "    translator = str.maketrans('', '', string.digits)\n",
        "    df[text_column] = df[text_column].progress_apply(lambda x: x.translate(translator))\n",
        "\n",
        "    print(\"Removendo aspas...\")\n",
        "    df[text_column] = df[text_column].progress_apply(lambda x: x.replace('\"', '').replace(\"'\", ''))  # Remove tanto aspas duplas quanto simples\n",
        "\n",
        "    print(\"Removendo acentos e símbolos diversos...\")\n",
        "    def remove_accents_and_symbols(text):\n",
        "        try:\n",
        "            # Normaliza a string para a forma NFKD e mantém apenas caracteres que não são diacríticos\n",
        "            # nem combinam caracteres com diacríticos\n",
        "            return ''.join(c for c in unicodedata.normalize('NFKD', text) if not unicodedata.combining(c) and unicodedata.category(c) != 'Mn')\n",
        "        except TypeError:\n",
        "            # Se não for possível normalizar um caractere, retorna uma string vazia\n",
        "            return ''\n",
        "\n",
        "    # Aplica a função 'remove_accents_and_symbols' na coluna 'text_column'\n",
        "    df[text_column] = df[text_column].progress_apply(lambda x: remove_accents_and_symbols(x))\n",
        "\n",
        "    print(\"Convertendo para minúsculas...\")\n",
        "    df[text_column] = df[text_column].progress_apply(lambda x: x.lower())\n",
        "\n",
        "    print(\"Computando Lematização...\")\n",
        "    def lemmatize_text(doc):\n",
        "        return [token.lemma_ for token in doc if not token.is_stop]\n",
        "\n",
        "    n_chunks = 10  # Ajuste esse valor de acordo com o tamanho da base de dados e a memória disponível no sistema\n",
        "    chunks = np.array_split(df, n_chunks) # Divide o dataframe em várias partes\n",
        "\n",
        "    processed_chunks = []\n",
        "    for i, chunk in enumerate(chunks):\n",
        "        print(f\"Processando segmento {i + 1} de {n_chunks}\")\n",
        "        processed_chunk = chunk.copy() # Cria uma cópia para realizar o processamento\n",
        "\n",
        "        #  Aplica a função 'lemmatize_text' a cada documento processado pelo spaCy (usando 'spacy_nlp_model.pipe') e\n",
        "        # atribui os resultados (uma lista de palavras lematizadas) à coluna 'text_column' do DataFrame 'processed_chunk'.\n",
        "        # O tqdm é utilizado para exibir uma barra de progresso durante o processamento dos documentos.\n",
        "        processed_chunk[text_column] = [lemmatize_text(doc) for doc in tqdm(spacy_nlp_model.pipe(chunk[text_column].astype(str), batch_size=100, disable=['parser', 'ner']), total=len(chunk[text_column]))]\n",
        "\n",
        "        # Junta as partes em uma lista, para formar o dataframe final\n",
        "        processed_chunks.append(processed_chunk)\n",
        "\n",
        "    concatenated_df = pd.concat(processed_chunks) # Concatenar os DataFrames processados\n",
        "    df[text_column] = concatenated_df[text_column] # Atribuir a coluna 'data' processada de volta ao dataframe original\n",
        "\n",
        "    print(\"Remover tokens com espaços vazios...\")\n",
        "    df['data'] = df['data'].progress_apply(lambda x: [token for token in x if token.strip()])"
      ]
    },
    {
      "cell_type": "code",
      "execution_count": 129,
      "metadata": {
        "colab": {
          "base_uri": "https://localhost:8080/"
        },
        "id": "TCYpB5iqRWWN",
        "outputId": "6ae85748-7a27-46f0-e69f-f3a76697ab81"
      },
      "outputs": [
        {
          "name": "stdout",
          "output_type": "stream",
          "text": [
            "Removendo pontuação...\n"
          ]
        },
        {
          "name": "stderr",
          "output_type": "stream",
          "text": [
            "100%|██████████| 44958/44958 [00:01<00:00, 29814.19it/s]\n"
          ]
        },
        {
          "name": "stdout",
          "output_type": "stream",
          "text": [
            "Removendo números...\n"
          ]
        },
        {
          "name": "stderr",
          "output_type": "stream",
          "text": [
            "100%|██████████| 44958/44958 [00:00<00:00, 48209.77it/s]\n"
          ]
        },
        {
          "name": "stdout",
          "output_type": "stream",
          "text": [
            "Removendo aspas...\n"
          ]
        },
        {
          "name": "stderr",
          "output_type": "stream",
          "text": [
            "100%|██████████| 44958/44958 [00:00<00:00, 1111155.42it/s]\n"
          ]
        },
        {
          "name": "stdout",
          "output_type": "stream",
          "text": [
            "Removendo acentos e símbolos diversos...\n"
          ]
        },
        {
          "name": "stderr",
          "output_type": "stream",
          "text": [
            "100%|██████████| 44958/44958 [00:02<00:00, 18290.18it/s]\n"
          ]
        },
        {
          "name": "stdout",
          "output_type": "stream",
          "text": [
            "Convertendo para minúsculas...\n"
          ]
        },
        {
          "name": "stderr",
          "output_type": "stream",
          "text": [
            "100%|██████████| 44958/44958 [00:00<00:00, 297706.38it/s]\n",
            "/usr/local/lib/python3.11/dist-packages/numpy/_core/fromnumeric.py:57: FutureWarning: 'DataFrame.swapaxes' is deprecated and will be removed in a future version. Please use 'DataFrame.transpose' instead.\n",
            "  return bound(*args, **kwds)\n"
          ]
        },
        {
          "name": "stdout",
          "output_type": "stream",
          "text": [
            "Computando Lematização...\n",
            "Processando segmento 1 de 10\n"
          ]
        },
        {
          "name": "stderr",
          "output_type": "stream",
          "text": [
            "100%|██████████| 4496/4496 [00:20<00:00, 215.42it/s]\n"
          ]
        },
        {
          "name": "stdout",
          "output_type": "stream",
          "text": [
            "Processando segmento 2 de 10\n"
          ]
        },
        {
          "name": "stderr",
          "output_type": "stream",
          "text": [
            "100%|██████████| 4496/4496 [00:11<00:00, 394.02it/s]\n"
          ]
        },
        {
          "name": "stdout",
          "output_type": "stream",
          "text": [
            "Processando segmento 3 de 10\n"
          ]
        },
        {
          "name": "stderr",
          "output_type": "stream",
          "text": [
            "100%|██████████| 4496/4496 [00:07<00:00, 620.90it/s]\n"
          ]
        },
        {
          "name": "stdout",
          "output_type": "stream",
          "text": [
            "Processando segmento 4 de 10\n"
          ]
        },
        {
          "name": "stderr",
          "output_type": "stream",
          "text": [
            "100%|██████████| 4496/4496 [00:08<00:00, 521.36it/s]\n"
          ]
        },
        {
          "name": "stdout",
          "output_type": "stream",
          "text": [
            "Processando segmento 5 de 10\n"
          ]
        },
        {
          "name": "stderr",
          "output_type": "stream",
          "text": [
            "100%|██████████| 4496/4496 [00:07<00:00, 613.70it/s]\n"
          ]
        },
        {
          "name": "stdout",
          "output_type": "stream",
          "text": [
            "Processando segmento 6 de 10\n"
          ]
        },
        {
          "name": "stderr",
          "output_type": "stream",
          "text": [
            "100%|██████████| 4496/4496 [00:07<00:00, 578.92it/s]\n"
          ]
        },
        {
          "name": "stdout",
          "output_type": "stream",
          "text": [
            "Processando segmento 7 de 10\n"
          ]
        },
        {
          "name": "stderr",
          "output_type": "stream",
          "text": [
            "100%|██████████| 4496/4496 [00:06<00:00, 685.10it/s]\n"
          ]
        },
        {
          "name": "stdout",
          "output_type": "stream",
          "text": [
            "Processando segmento 8 de 10\n"
          ]
        },
        {
          "name": "stderr",
          "output_type": "stream",
          "text": [
            "100%|██████████| 4496/4496 [00:07<00:00, 589.45it/s]\n"
          ]
        },
        {
          "name": "stdout",
          "output_type": "stream",
          "text": [
            "Processando segmento 9 de 10\n"
          ]
        },
        {
          "name": "stderr",
          "output_type": "stream",
          "text": [
            "100%|██████████| 4495/4495 [00:06<00:00, 682.17it/s]\n"
          ]
        },
        {
          "name": "stdout",
          "output_type": "stream",
          "text": [
            "Processando segmento 10 de 10\n"
          ]
        },
        {
          "name": "stderr",
          "output_type": "stream",
          "text": [
            "100%|██████████| 4495/4495 [00:07<00:00, 581.62it/s]\n"
          ]
        },
        {
          "name": "stdout",
          "output_type": "stream",
          "text": [
            "Remover tokens com espaços vazios...\n"
          ]
        },
        {
          "name": "stderr",
          "output_type": "stream",
          "text": [
            "100%|██████████| 44958/44958 [00:00<00:00, 382526.37it/s]\n"
          ]
        }
      ],
      "source": [
        "preprocess_data(df_news, 'data') # Realiza o pré-processamento"
      ]
    },
    {
      "cell_type": "code",
      "execution_count": 130,
      "metadata": {
        "id": "bNDwLWNZR5G-"
      },
      "outputs": [],
      "source": [
        "df_news.to_pickle(path+\"/df_news.pkl\")\n"
      ]
    },
    {
      "cell_type": "markdown",
      "metadata": {
        "id": "1Z3Dmoi7cYqH"
      },
      "source": [
        "# Preparação dos dados para o modelo de machine learning\n"
      ]
    },
    {
      "cell_type": "code",
      "execution_count": 133,
      "metadata": {
        "id": "RhNPi_u_dqcU"
      },
      "outputs": [],
      "source": [
        "import tensorflow as tf\n",
        "from tensorflow.keras.preprocessing.text import Tokenizer\n",
        "from tensorflow.keras.preprocessing.sequence import pad_sequences\n",
        "from tensorflow.keras.layers import Embedding, LSTM, Dense, Bidirectional,Dropout\n",
        "from tensorflow.keras.models import Sequential\n",
        "from tensorflow.keras.utils import to_categorical\n",
        "from tensorflow.keras.callbacks import EarlyStopping\n",
        "\n",
        "from tensorflow.keras import regularizers\n",
        "import numpy as np\n",
        "import pandas as pd"
      ]
    },
    {
      "cell_type": "code",
      "execution_count": 134,
      "metadata": {
        "id": "h9IOYC8xZf9J"
      },
      "outputs": [],
      "source": [
        "# Carregar dataframe salvo em formato pickle\n",
        "df_news = pd.read_pickle(path+\"/df_news.pkl\")"
      ]
    },
    {
      "cell_type": "code",
      "execution_count": 135,
      "metadata": {
        "id": "PjOBCfP0bkR_"
      },
      "outputs": [],
      "source": [
        "texts = df_news['data'].tolist()  # Converte as notícias em listas de palavras, algo que o Tokenizador espera\n",
        "labels = df_news['label'].tolist()  # Rótulos das notícias\n"
      ]
    },
    {
      "cell_type": "code",
      "execution_count": 136,
      "metadata": {
        "id": "3AX52w_ebvCw"
      },
      "outputs": [],
      "source": [
        "\n",
        "# Tokenização\n",
        "tokenizer = Tokenizer()\n",
        "tokenizer.fit_on_texts(texts)\n",
        "sequences = tokenizer.texts_to_sequences(texts)\n",
        "word_index = tokenizer.word_index"
      ]
    },
    {
      "cell_type": "code",
      "execution_count": 137,
      "metadata": {
        "id": "DdaRltGceuB_"
      },
      "outputs": [],
      "source": [
        "import pickle\n",
        "\n",
        "# Salva o tokenizador em um arquivo (precisamos dele mais tarde, quando realizarmos as inferências)\n",
        "with open(path + '/tokenizer.pkl', 'wb') as file:\n",
        "    pickle.dump(tokenizer, file)"
      ]
    },
    {
      "cell_type": "code",
      "execution_count": 138,
      "metadata": {
        "colab": {
          "base_uri": "https://localhost:8080/"
        },
        "id": "23sl3CF_fJGy",
        "outputId": "a88611ee-662c-47c2-9da4-ee69b7131258"
      },
      "outputs": [
        {
          "name": "stdout",
          "output_type": "stream",
          "text": [
            "Mean sequence length:  17.609591173984608\n",
            "Maximum sequence length:  683\n"
          ]
        }
      ],
      "source": [
        "# Calcula o comprimento de cada sequência em 'sequences' e armazena os resultados na lista 'sequence_lengths'\n",
        "sequence_lengths = [len(seq) for seq in sequences]\n",
        "\n",
        "# Calcula a média dos comprimentos das sequências usando a função 'mean' do numpy\n",
        "mean_length = np.mean(sequence_lengths)\n",
        "\n",
        "# Obtém o comprimento máximo das sequências usando a função 'max' do Python\n",
        "max_length = max(sequence_lengths)\n",
        "\n",
        "# Imprime a média e o comprimento máximo das sequências\n",
        "print(\"Mean sequence length: \", mean_length)\n",
        "print(\"Maximum sequence length: \", max_length)"
      ]
    },
    {
      "cell_type": "code",
      "execution_count": 139,
      "metadata": {
        "id": "dClAplGAfLRN"
      },
      "outputs": [],
      "source": [
        "from tensorflow.keras.preprocessing.sequence import pad_sequences\n",
        "\n",
        "# Calcula o percentil 95 dos comprimentos das sequências (preserva 95% das sequências)\n",
        "max_length = int(np.percentile(sequence_lengths, 95))\n",
        "\n",
        "# Realiza o preenchimento das sequências com base no novo 'max_length'\n",
        "padded_sequences = pad_sequences(sequences, maxlen=max_length, padding='post')\n"
      ]
    },
    {
      "cell_type": "code",
      "execution_count": 140,
      "metadata": {
        "id": "c-PeMWM0fPEy"
      },
      "outputs": [],
      "source": [
        "embeddings_index = {}\n",
        "with open(path + '/glove.6B.100d.txt', encoding='utf-8') as f:\n",
        "    for line in f:\n",
        "        values = line.split()\n",
        "        word = values[0]\n",
        "        coefs = np.asarray(values[1:], dtype='float32')\n",
        "        embeddings_index[word] = coefs"
      ]
    },
    {
      "cell_type": "code",
      "execution_count": 141,
      "metadata": {
        "id": "cse4KA8qfW7E"
      },
      "outputs": [],
      "source": [
        "embedding_dim = 100  # o tamanho do seu GLoVe embeddings\n",
        "embedding_matrix = np.zeros((len(word_index) + 1, embedding_dim))\n",
        "for word, i in word_index.items():\n",
        "    embedding_vector = embeddings_index.get(word)\n",
        "    if embedding_vector is not None:\n",
        "        embedding_matrix[i] = embedding_vector"
      ]
    },
    {
      "cell_type": "code",
      "execution_count": 142,
      "metadata": {
        "id": "coh5FRY7fX7O"
      },
      "outputs": [],
      "source": [
        "num_classes = len(np.unique(labels))  # Número de classes únicas\n",
        "labels = to_categorical(labels, num_classes=num_classes)\n"
      ]
    },
    {
      "cell_type": "code",
      "execution_count": 143,
      "metadata": {
        "id": "VAMgOLlxfd6C"
      },
      "outputs": [],
      "source": [
        "from sklearn.model_selection import train_test_split\n",
        "\n",
        "# Divida os dados em um conjunto de treino (70%) e um conjunto temporário (30%)\n",
        "X_train, X_temp, y_train, y_temp = train_test_split(padded_sequences, labels, test_size=0.3)\n",
        "\n",
        "# Divida o conjunto temporário em conjuntos de validação (15%) e teste (15%)\n",
        "X_val, X_test, y_val, y_test = train_test_split(X_temp, y_temp, test_size=0.5)  # 0.5 * 0.3 = 0.15"
      ]
    },
    {
      "cell_type": "code",
      "execution_count": 144,
      "metadata": {
        "colab": {
          "base_uri": "https://localhost:8080/"
        },
        "id": "rxuiN5zMgyZp",
        "outputId": "aabd8cbf-4142-4d89-b984-53cae75fb2a3"
      },
      "outputs": [
        {
          "name": "stdout",
          "output_type": "stream",
          "text": [
            "GPUs disponíveis:  [PhysicalDevice(name='/physical_device:GPU:0', device_type='GPU')]\n"
          ]
        }
      ],
      "source": [
        "import tensorflow as tf\n",
        "\n",
        "# Verifique se há GPUs disponíveis\n",
        "print(\"GPUs disponíveis: \", tf.config.list_physical_devices('GPU'))\n"
      ]
    },
    {
      "cell_type": "code",
      "execution_count": 147,
      "metadata": {
        "colab": {
          "base_uri": "https://localhost:8080/"
        },
        "id": "lJ3MLchrnLAO",
        "outputId": "ced688bb-af44-4d11-94d7-f22a38013a01"
      },
      "outputs": [
        {
          "name": "stdout",
          "output_type": "stream",
          "text": [
            "Epoch 1/40\n",
            "\u001b[1m246/246\u001b[0m \u001b[32m━━━━━━━━━━━━━━━━━━━━\u001b[0m\u001b[37m\u001b[0m \u001b[1m9s\u001b[0m 17ms/step - accuracy: 0.6404 - loss: 4.2916 - val_accuracy: 0.7322 - val_loss: 0.6291\n",
            "Epoch 2/40\n",
            "\u001b[1m246/246\u001b[0m \u001b[32m━━━━━━━━━━━━━━━━━━━━\u001b[0m\u001b[37m\u001b[0m \u001b[1m3s\u001b[0m 12ms/step - accuracy: 0.7473 - loss: 0.5940 - val_accuracy: 0.6822 - val_loss: 0.6293\n",
            "Epoch 3/40\n",
            "\u001b[1m246/246\u001b[0m \u001b[32m━━━━━━━━━━━━━━━━━━━━\u001b[0m\u001b[37m\u001b[0m \u001b[1m3s\u001b[0m 12ms/step - accuracy: 0.7532 - loss: 0.5616 - val_accuracy: 0.7577 - val_loss: 0.5600\n",
            "Epoch 4/40\n",
            "\u001b[1m246/246\u001b[0m \u001b[32m━━━━━━━━━━━━━━━━━━━━\u001b[0m\u001b[37m\u001b[0m \u001b[1m6s\u001b[0m 15ms/step - accuracy: 0.7657 - loss: 0.5447 - val_accuracy: 0.7457 - val_loss: 0.5666\n",
            "Epoch 5/40\n",
            "\u001b[1m246/246\u001b[0m \u001b[32m━━━━━━━━━━━━━━━━━━━━\u001b[0m\u001b[37m\u001b[0m \u001b[1m5s\u001b[0m 13ms/step - accuracy: 0.7636 - loss: 0.5418 - val_accuracy: 0.7501 - val_loss: 0.5630\n",
            "Epoch 6/40\n",
            "\u001b[1m246/246\u001b[0m \u001b[32m━━━━━━━━━━━━━━━━━━━━\u001b[0m\u001b[37m\u001b[0m \u001b[1m6s\u001b[0m 16ms/step - accuracy: 0.7673 - loss: 0.5345 - val_accuracy: 0.7602 - val_loss: 0.5514\n",
            "Epoch 7/40\n",
            "\u001b[1m246/246\u001b[0m \u001b[32m━━━━━━━━━━━━━━━━━━━━\u001b[0m\u001b[37m\u001b[0m \u001b[1m3s\u001b[0m 14ms/step - accuracy: 0.7614 - loss: 0.5468 - val_accuracy: 0.7665 - val_loss: 0.5392\n",
            "Epoch 8/40\n",
            "\u001b[1m246/246\u001b[0m \u001b[32m━━━━━━━━━━━━━━━━━━━━\u001b[0m\u001b[37m\u001b[0m \u001b[1m5s\u001b[0m 13ms/step - accuracy: 0.7718 - loss: 0.5303 - val_accuracy: 0.7659 - val_loss: 0.5445\n",
            "Epoch 9/40\n",
            "\u001b[1m246/246\u001b[0m \u001b[32m━━━━━━━━━━━━━━━━━━━━\u001b[0m\u001b[37m\u001b[0m \u001b[1m6s\u001b[0m 17ms/step - accuracy: 0.7704 - loss: 0.5352 - val_accuracy: 0.7610 - val_loss: 0.5419\n",
            "Epoch 10/40\n",
            "\u001b[1m246/246\u001b[0m \u001b[32m━━━━━━━━━━━━━━━━━━━━\u001b[0m\u001b[37m\u001b[0m \u001b[1m4s\u001b[0m 12ms/step - accuracy: 0.7738 - loss: 0.5330 - val_accuracy: 0.7745 - val_loss: 0.5331\n",
            "Epoch 11/40\n",
            "\u001b[1m246/246\u001b[0m \u001b[32m━━━━━━━━━━━━━━━━━━━━\u001b[0m\u001b[37m\u001b[0m \u001b[1m3s\u001b[0m 12ms/step - accuracy: 0.7808 - loss: 0.5244 - val_accuracy: 0.7669 - val_loss: 0.5416\n",
            "Epoch 12/40\n",
            "\u001b[1m246/246\u001b[0m \u001b[32m━━━━━━━━━━━━━━━━━━━━\u001b[0m\u001b[37m\u001b[0m \u001b[1m6s\u001b[0m 17ms/step - accuracy: 0.7746 - loss: 0.5335 - val_accuracy: 0.7722 - val_loss: 0.5290\n",
            "Epoch 13/40\n",
            "\u001b[1m246/246\u001b[0m \u001b[32m━━━━━━━━━━━━━━━━━━━━\u001b[0m\u001b[37m\u001b[0m \u001b[1m3s\u001b[0m 12ms/step - accuracy: 0.7809 - loss: 0.5215 - val_accuracy: 0.7702 - val_loss: 0.5279\n",
            "Epoch 14/40\n",
            "\u001b[1m246/246\u001b[0m \u001b[32m━━━━━━━━━━━━━━━━━━━━\u001b[0m\u001b[37m\u001b[0m \u001b[1m3s\u001b[0m 12ms/step - accuracy: 0.7897 - loss: 0.5149 - val_accuracy: 0.7752 - val_loss: 0.5211\n",
            "Epoch 15/40\n",
            "\u001b[1m246/246\u001b[0m \u001b[32m━━━━━━━━━━━━━━━━━━━━\u001b[0m\u001b[37m\u001b[0m \u001b[1m3s\u001b[0m 13ms/step - accuracy: 0.7877 - loss: 0.5110 - val_accuracy: 0.7725 - val_loss: 0.5268\n",
            "Epoch 16/40\n",
            "\u001b[1m246/246\u001b[0m \u001b[32m━━━━━━━━━━━━━━━━━━━━\u001b[0m\u001b[37m\u001b[0m \u001b[1m5s\u001b[0m 13ms/step - accuracy: 0.7895 - loss: 0.5152 - val_accuracy: 0.7650 - val_loss: 0.5395\n",
            "Epoch 17/40\n",
            "\u001b[1m246/246\u001b[0m \u001b[32m━━━━━━━━━━━━━━━━━━━━\u001b[0m\u001b[37m\u001b[0m \u001b[1m3s\u001b[0m 12ms/step - accuracy: 0.7871 - loss: 0.5141 - val_accuracy: 0.7847 - val_loss: 0.5215\n",
            "Epoch 18/40\n",
            "\u001b[1m246/246\u001b[0m \u001b[32m━━━━━━━━━━━━━━━━━━━━\u001b[0m\u001b[37m\u001b[0m \u001b[1m3s\u001b[0m 12ms/step - accuracy: 0.7918 - loss: 0.5126 - val_accuracy: 0.7831 - val_loss: 0.5168\n",
            "Epoch 19/40\n",
            "\u001b[1m246/246\u001b[0m \u001b[32m━━━━━━━━━━━━━━━━━━━━\u001b[0m\u001b[37m\u001b[0m \u001b[1m5s\u001b[0m 14ms/step - accuracy: 0.7941 - loss: 0.5104 - val_accuracy: 0.7880 - val_loss: 0.5157\n",
            "Epoch 20/40\n",
            "\u001b[1m246/246\u001b[0m \u001b[32m━━━━━━━━━━━━━━━━━━━━\u001b[0m\u001b[37m\u001b[0m \u001b[1m5s\u001b[0m 13ms/step - accuracy: 0.8027 - loss: 0.4991 - val_accuracy: 0.7909 - val_loss: 0.5141\n",
            "Epoch 21/40\n",
            "\u001b[1m246/246\u001b[0m \u001b[32m━━━━━━━━━━━━━━━━━━━━\u001b[0m\u001b[37m\u001b[0m \u001b[1m3s\u001b[0m 14ms/step - accuracy: 0.7978 - loss: 0.5058 - val_accuracy: 0.7917 - val_loss: 0.5077\n",
            "Epoch 22/40\n",
            "\u001b[1m246/246\u001b[0m \u001b[32m━━━━━━━━━━━━━━━━━━━━\u001b[0m\u001b[37m\u001b[0m \u001b[1m4s\u001b[0m 17ms/step - accuracy: 0.7993 - loss: 0.5007 - val_accuracy: 0.7942 - val_loss: 0.5153\n",
            "Epoch 23/40\n",
            "\u001b[1m246/246\u001b[0m \u001b[32m━━━━━━━━━━━━━━━━━━━━\u001b[0m\u001b[37m\u001b[0m \u001b[1m3s\u001b[0m 12ms/step - accuracy: 0.8059 - loss: 0.4980 - val_accuracy: 0.7960 - val_loss: 0.5100\n",
            "Epoch 24/40\n",
            "\u001b[1m246/246\u001b[0m \u001b[32m━━━━━━━━━━━━━━━━━━━━\u001b[0m\u001b[37m\u001b[0m \u001b[1m3s\u001b[0m 13ms/step - accuracy: 0.8105 - loss: 0.4902 - val_accuracy: 0.7960 - val_loss: 0.5140\n",
            "Epoch 25/40\n",
            "\u001b[1m246/246\u001b[0m \u001b[32m━━━━━━━━━━━━━━━━━━━━\u001b[0m\u001b[37m\u001b[0m \u001b[1m4s\u001b[0m 15ms/step - accuracy: 0.8099 - loss: 0.4906 - val_accuracy: 0.7942 - val_loss: 0.5090\n",
            "Epoch 26/40\n",
            "\u001b[1m246/246\u001b[0m \u001b[32m━━━━━━━━━━━━━━━━━━━━\u001b[0m\u001b[37m\u001b[0m \u001b[1m3s\u001b[0m 14ms/step - accuracy: 0.8086 - loss: 0.4907 - val_accuracy: 0.8012 - val_loss: 0.5042\n",
            "Epoch 27/40\n",
            "\u001b[1m246/246\u001b[0m \u001b[32m━━━━━━━━━━━━━━━━━━━━\u001b[0m\u001b[37m\u001b[0m \u001b[1m3s\u001b[0m 13ms/step - accuracy: 0.8116 - loss: 0.4896 - val_accuracy: 0.8066 - val_loss: 0.4956\n",
            "Epoch 28/40\n",
            "\u001b[1m246/246\u001b[0m \u001b[32m━━━━━━━━━━━━━━━━━━━━\u001b[0m\u001b[37m\u001b[0m \u001b[1m6s\u001b[0m 15ms/step - accuracy: 0.8080 - loss: 0.4968 - val_accuracy: 0.7826 - val_loss: 0.5306\n",
            "Epoch 29/40\n",
            "\u001b[1m246/246\u001b[0m \u001b[32m━━━━━━━━━━━━━━━━━━━━\u001b[0m\u001b[37m\u001b[0m \u001b[1m5s\u001b[0m 13ms/step - accuracy: 0.8110 - loss: 0.4900 - val_accuracy: 0.8089 - val_loss: 0.4965\n",
            "Epoch 30/40\n",
            "\u001b[1m246/246\u001b[0m \u001b[32m━━━━━━━━━━━━━━━━━━━━\u001b[0m\u001b[37m\u001b[0m \u001b[1m5s\u001b[0m 13ms/step - accuracy: 0.8149 - loss: 0.4858 - val_accuracy: 0.7991 - val_loss: 0.4980\n",
            "Epoch 31/40\n",
            "\u001b[1m246/246\u001b[0m \u001b[32m━━━━━━━━━━━━━━━━━━━━\u001b[0m\u001b[37m\u001b[0m \u001b[1m6s\u001b[0m 16ms/step - accuracy: 0.8150 - loss: 0.4875 - val_accuracy: 0.8055 - val_loss: 0.4984\n",
            "Epoch 32/40\n",
            "\u001b[1m246/246\u001b[0m \u001b[32m━━━━━━━━━━━━━━━━━━━━\u001b[0m\u001b[37m\u001b[0m \u001b[1m3s\u001b[0m 12ms/step - accuracy: 0.8119 - loss: 0.4890 - val_accuracy: 0.8087 - val_loss: 0.4956\n"
          ]
        }
      ],
      "source": [
        "# Construindo o modelo\n",
        "\n",
        "model = Sequential()\n",
        "\n",
        "model.add(Embedding(len(word_index) + 1, embedding_dim, weights=[embedding_matrix], trainable=False))\n",
        "model.add(Bidirectional(LSTM(32, return_sequences=True, kernel_regularizer=regularizers.l2(0.02))))\n",
        "model.add(Dropout(0.4))\n",
        "model.add(Bidirectional(LSTM(64, kernel_regularizer=regularizers.l2(0.02))))\n",
        "model.add(Dropout(0.4))\n",
        "model.add(Dense(num_classes, activation='sigmoid', kernel_regularizer=regularizers.l2(0.02)))\n",
        "\n",
        "\n",
        "# Chamada ao Early Stopping\n",
        "early_stopping = EarlyStopping(monitor='val_loss', patience=5)\n",
        "\n",
        "\n",
        "model.compile(loss='binary_crossentropy', optimizer='adam', metrics=['accuracy'])\n",
        "\n",
        "# Treinamento do modelo\n",
        "history = model.fit(X_train, y_train, batch_size=128, epochs=40, validation_data=(X_val, y_val), callbacks=[early_stopping])\n"
      ]
    },
    {
      "cell_type": "code",
      "execution_count": 148,
      "metadata": {
        "colab": {
          "base_uri": "https://localhost:8080/",
          "height": 472
        },
        "id": "b0OPulr2frXb",
        "outputId": "063e9e3a-9b36-4daf-b494-684793df2d2a"
      },
      "outputs": [
        {
          "data": {
            "image/png": "[encoded data removed]",
            "text/plain": [
              "<Figure size 640x480 with 1 Axes>"
            ]
          },
          "metadata": {},
          "output_type": "display_data"
        }
      ],
      "source": [
        "import matplotlib.pyplot as plt\n",
        "\n",
        "# Plota a perda (loss) e a perda de validação (val_loss) durante o treinamento\n",
        "plt.plot(history.history['loss'], label='Training Loss')\n",
        "plt.plot(history.history['val_loss'], label='Validation Loss')\n",
        "plt.title('Loss and Validation Loss')\n",
        "plt.xlabel('Epoch')\n",
        "plt.ylabel('Loss')\n",
        "plt.legend()\n",
        "plt.show()"
      ]
    },
    {
      "cell_type": "markdown",
      "metadata": {
        "id": "z0U67saZl_36"
      },
      "source": [
        "# Salvando"
      ]
    },
    {
      "cell_type": "code",
      "execution_count": 149,
      "metadata": {
        "id": "oko1kOPQfuSM"
      },
      "outputs": [],
      "source": [
        "# Salva arquivos em discos que podemos carregar sem treinar a rede neural novamente\n",
        "model.save(path+'/BiLSTM_glove6b100d.keras')\n",
        "np.save(path+\"/X_test_BiLSTM_glove6b100d.npy\", X_test)\n",
        "np.save(path+\"/y_test_BiLSTM_glove6b100d.npy\", y_test)"
      ]
    },
    {
      "cell_type": "markdown",
      "metadata": {
        "id": "fTKpGvC3mZsu"
      },
      "source": [
        "# avaliando"
      ]
    },
    {
      "cell_type": "code",
      "execution_count": 150,
      "metadata": {
        "colab": {
          "base_uri": "https://localhost:8080/"
        },
        "id": "MljD-hp9mZLZ",
        "outputId": "ca4ae1a7-c58d-4f24-9ee7-38a34657cb7c"
      },
      "outputs": [
        {
          "name": "stdout",
          "output_type": "stream",
          "text": [
            "\u001b[1m211/211\u001b[0m \u001b[32m━━━━━━━━━━━━━━━━━━━━\u001b[0m\u001b[37m\u001b[0m \u001b[1m1s\u001b[0m 6ms/step - accuracy: 0.7983 - loss: 0.5125\n",
            "Acurácia final: 0.8033807873725891\n"
          ]
        }
      ],
      "source": [
        "loss, accuracy = model.evaluate(X_test, y_test)\n",
        "print('Acurácia final:', accuracy)"
      ]
    },
    {
      "cell_type": "code",
      "execution_count": 151,
      "metadata": {
        "colab": {
          "base_uri": "https://localhost:8080/"
        },
        "id": "kEYKeYoArQL8",
        "outputId": "b6d3b7aa-daae-4633-fb51-4b0e30ec2e3f"
      },
      "outputs": [
        {
          "name": "stdout",
          "output_type": "stream",
          "text": [
            "\u001b[1m211/211\u001b[0m \u001b[32m━━━━━━━━━━━━━━━━━━━━\u001b[0m\u001b[37m\u001b[0m \u001b[1m1s\u001b[0m 5ms/step\n"
          ]
        }
      ],
      "source": [
        "y_pred = model.predict(X_test)"
      ]
    },
    {
      "cell_type": "code",
      "execution_count": 152,
      "metadata": {
        "id": "DhWzAq52rJo6"
      },
      "outputs": [],
      "source": [
        "y_pred_labels = np.argmax(y_pred, axis=1)\n",
        "y_true_labels = np.argmax(y_test, axis=1)"
      ]
    },
    {
      "cell_type": "code",
      "execution_count": 153,
      "metadata": {
        "colab": {
          "base_uri": "https://localhost:8080/",
          "height": 661
        },
        "id": "HlVZO_i7noci",
        "outputId": "a4352f4a-c49b-490c-e4ff-32d8471f60ce"
      },
      "outputs": [
        {
          "name": "stdout",
          "output_type": "stream",
          "text": [
            "\u001b[1m211/211\u001b[0m \u001b[32m━━━━━━━━━━━━━━━━━━━━\u001b[0m\u001b[37m\u001b[0m \u001b[1m1s\u001b[0m 5ms/step\n"
          ]
        },
        {
          "data": {
            "image/png": "[encoded data removed]",
            "text/plain": [
              "<Figure size 500x500 with 2 Axes>"
            ]
          },
          "metadata": {},
          "output_type": "display_data"
        },
        {
          "name": "stdout",
          "output_type": "stream",
          "text": [
            "              precision    recall  f1-score   support\n",
            "\n",
            "           0       0.77      0.90      0.83      3620\n",
            "           1       0.86      0.69      0.77      3124\n",
            "\n",
            "    accuracy                           0.80      6744\n",
            "   macro avg       0.81      0.80      0.80      6744\n",
            "weighted avg       0.81      0.80      0.80      6744\n",
            "\n"
          ]
        }
      ],
      "source": [
        "from sklearn.metrics import confusion_matrix, classification_report\n",
        "import seaborn as sns\n",
        "import matplotlib.pyplot as plt\n",
        "import numpy as np\n",
        "\n",
        "# Prevendo nos dados de validação\n",
        "y_pred = model.predict(X_val)\n",
        "y_pred = (y_pred > 0.15).astype(int)  # Convertendo para 0 ou 1\n",
        "\n",
        "# Criando a matriz de confusão\n",
        "cm = confusion_matrix(y_true_labels, y_pred_labels)\n",
        "\n",
        "# Plotando a matriz de confusão\n",
        "plt.figure(figsize=(5,5))\n",
        "sns.heatmap(cm, annot=True, fmt='d', cmap='Blues', xticklabels=[\"True news \", \"Fake news\"], yticklabels=[\"True news \", \"Fake news\"])\n",
        "plt.xlabel(\"Predito\")\n",
        "plt.ylabel(\"Real\")\n",
        "plt.title(\"Matriz de Confusão\")\n",
        "plt.show()\n",
        "\n",
        "# Exibindo métricas como F1-score, precisão e recall\n",
        "print(classification_report(y_true_labels, y_pred_labels))\n"
      ]
    }
  ],
  "metadata": {
    "accelerator": "GPU",
    "colab": {
      "gpuType": "T4",
      "provenance": []
    },
    "kernelspec": {
      "display_name": "Python 3",
      "name": "python3"
    },
    "language_info": {
      "name": "python"
    }
  },
  "nbformat": 4,
  "nbformat_minor": 0
}
